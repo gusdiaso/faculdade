{
 "cells": [
  {
   "cell_type": "code",
   "execution_count": 1,
   "metadata": {},
   "outputs": [
    {
     "name": "stdout",
     "output_type": "stream",
     "text": [
      "Insira a quantidade de pontos de entrarão: \n",
      "5\n",
      "x0 = 3.0 -------- f(3.0) = 2.0\n",
      "x1 = 5.0 -------- f(5.0) = 6.0\n",
      "x2 = 4.0 -------- f(4.0) = 3.0\n",
      "x3 = 4.0 -------- f(4.0) = 6.0\n",
      "x4 = 1.0 -------- f(1.0) = 4.0\n",
      "\n",
      "Valor da aproximação: -5.333333333333333\n"
     ]
    }
   ],
   "source": [
    "import math\n",
    "import sympy as sp\n",
    "import numpy as np\n",
    "\n",
    "print(\"Insira a quantidade de pontos de entrarão: \")\n",
    "quantidade = int(input())\n",
    "print(quantidade)\n",
    "pontosX = []\n",
    "funcaoY = []\n",
    "Lagrange = []\n",
    "Polinomio = []\n",
    "i = 0\n",
    "j = 0\n",
    "Ponto = float(input(\"Ponto a ser calculado: \"))\n",
    "\n",
    "for i in range(0,quantidade):\n",
    "    pontosX.insert(i ,float(input(\"Digite o valor de x{}\".format(i))))\n",
    "    funcaoY.insert(i, float(input(\"Digite o valor de f(x{})\".format(i))))\n",
    "for i in range(quantidade):\n",
    "    print(\"x{} = {} -------- f({}) = {}\".format(i, pontosX[i], pontosX[i], funcaoY[i]))\n",
    "numerador = 1\n",
    "denominador = 1\n",
    "for i in range(quantidade):\n",
    "    for j in range(quantidade):\n",
    "        if(pontosX[i] != pontosX[j]):\n",
    "            numerador = numerador*(Ponto - pontosX[j])\n",
    "            denominador = denominador*(pontosX[i] - pontosX[j])\n",
    "            j = j+1\n",
    "        else:\n",
    "            j = j+1\n",
    "  \n",
    "    Lagrange.insert(i, numerador/denominador)\n",
    "    Polinomio.insert(i, Lagrange[i]*funcaoY[i])\n",
    "    numerador = 1\n",
    "    denominador = 1\n",
    "\n",
    "aproximacao = 0\n",
    "for i in range(quantidade):\n",
    "    aproximacao = aproximacao + Polinomio[i]\n",
    "print(\"\\nValor da aproximação:\", aproximacao)    \n",
    "# fazer para Pn escolhido   \n",
    "    \n"
   ]
  }
 ],
 "metadata": {
  "kernelspec": {
   "display_name": "Python 3.10.2 64-bit",
   "language": "python",
   "name": "python3"
  },
  "language_info": {
   "codemirror_mode": {
    "name": "ipython",
    "version": 3
   },
   "file_extension": ".py",
   "mimetype": "text/x-python",
   "name": "python",
   "nbconvert_exporter": "python",
   "pygments_lexer": "ipython3",
   "version": "3.10.2"
  },
  "orig_nbformat": 4,
  "vscode": {
   "interpreter": {
    "hash": "369f2c481f4da34e4445cda3fffd2e751bd1c4d706f27375911949ba6bb62e1c"
   }
  }
 },
 "nbformat": 4,
 "nbformat_minor": 2
}
